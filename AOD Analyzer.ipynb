{
 "cells": [
  {
   "cell_type": "code",
   "execution_count": 1,
   "metadata": {
    "collapsed": true
   },
   "outputs": [],
   "source": [
    "from __future__ import division # ensures no rounding errors from division involving integers\n",
    "import pandas as pd # gives us the dataframe concept\n",
    "pd.options.display.max_rows = 9"
   ]
  },
  {
   "cell_type": "code",
   "execution_count": 2,
   "metadata": {
    "collapsed": true
   },
   "outputs": [],
   "source": [
    "aod = pd.read_table('psu_20070731.aod', skiprows=[0,1,2,3,4], sep=\" \", skipinitialspace=True)"
   ]
  },
  {
   "cell_type": "code",
   "execution_count": 3,
   "metadata": {
    "collapsed": false
   },
   "outputs": [
    {
     "data": {
      "text/html": [
       "<div style=\"max-height:1000px;max-width:1500px;overflow:auto;\">\n",
       "<table border=\"1\" class=\"dataframe\">\n",
       "  <thead>\n",
       "    <tr style=\"text-align: right;\">\n",
       "      <th></th>\n",
       "      <th>ltime</th>\n",
       "      <th>0=good</th>\n",
       "      <th>AOD416</th>\n",
       "      <th>AOD501</th>\n",
       "      <th>AOD615</th>\n",
       "      <th>AOD672</th>\n",
       "      <th>AOD862</th>\n",
       "      <th>416E</th>\n",
       "      <th>501E</th>\n",
       "      <th>615E</th>\n",
       "      <th>672E</th>\n",
       "      <th>862E</th>\n",
       "      <th>p_mb</th>\n",
       "      <th>Ang_exp</th>\n",
       "    </tr>\n",
       "  </thead>\n",
       "  <tbody>\n",
       "    <tr>\n",
       "      <th>0</th>\n",
       "      <td>556</td>\n",
       "      <td>1</td>\n",
       "      <td>0.383</td>\n",
       "      <td>0.300</td>\n",
       "      <td>0.208</td>\n",
       "      <td>0.172</td>\n",
       "      <td>0.113</td>\n",
       "      <td>0.0030</td>\n",
       "      <td>0.0024</td>\n",
       "      <td>0.0021</td>\n",
       "      <td>0.0017</td>\n",
       "      <td>0.0020</td>\n",
       "      <td>970.1</td>\n",
       "      <td>1.792</td>\n",
       "    </tr>\n",
       "    <tr>\n",
       "      <th>1</th>\n",
       "      <td>558</td>\n",
       "      <td>1</td>\n",
       "      <td>0.410</td>\n",
       "      <td>0.277</td>\n",
       "      <td>0.169</td>\n",
       "      <td>0.155</td>\n",
       "      <td>0.107</td>\n",
       "      <td>0.0031</td>\n",
       "      <td>0.0025</td>\n",
       "      <td>0.0021</td>\n",
       "      <td>0.0018</td>\n",
       "      <td>0.0021</td>\n",
       "      <td>970.1</td>\n",
       "      <td>1.746</td>\n",
       "    </tr>\n",
       "    <tr>\n",
       "      <th>2</th>\n",
       "      <td>600</td>\n",
       "      <td>1</td>\n",
       "      <td>0.350</td>\n",
       "      <td>0.284</td>\n",
       "      <td>0.183</td>\n",
       "      <td>0.155</td>\n",
       "      <td>0.109</td>\n",
       "      <td>0.0033</td>\n",
       "      <td>0.0025</td>\n",
       "      <td>0.0022</td>\n",
       "      <td>0.0018</td>\n",
       "      <td>0.0022</td>\n",
       "      <td>970.1</td>\n",
       "      <td>1.766</td>\n",
       "    </tr>\n",
       "    <tr>\n",
       "      <th>3</th>\n",
       "      <td>602</td>\n",
       "      <td>1</td>\n",
       "      <td>0.419</td>\n",
       "      <td>0.295</td>\n",
       "      <td>0.202</td>\n",
       "      <td>0.171</td>\n",
       "      <td>0.111</td>\n",
       "      <td>0.0034</td>\n",
       "      <td>0.0026</td>\n",
       "      <td>0.0023</td>\n",
       "      <td>0.0019</td>\n",
       "      <td>0.0023</td>\n",
       "      <td>970.1</td>\n",
       "      <td>1.796</td>\n",
       "    </tr>\n",
       "    <tr>\n",
       "      <th>...</th>\n",
       "      <td>...</td>\n",
       "      <td>...</td>\n",
       "      <td>...</td>\n",
       "      <td>...</td>\n",
       "      <td>...</td>\n",
       "      <td>...</td>\n",
       "      <td>...</td>\n",
       "      <td>...</td>\n",
       "      <td>...</td>\n",
       "      <td>...</td>\n",
       "      <td>...</td>\n",
       "      <td>...</td>\n",
       "      <td>...</td>\n",
       "      <td>...</td>\n",
       "    </tr>\n",
       "    <tr>\n",
       "      <th>372</th>\n",
       "      <td>1834</td>\n",
       "      <td>1</td>\n",
       "      <td>0.441</td>\n",
       "      <td>0.249</td>\n",
       "      <td>0.165</td>\n",
       "      <td>0.141</td>\n",
       "      <td>0.102</td>\n",
       "      <td>0.0034</td>\n",
       "      <td>0.0026</td>\n",
       "      <td>0.0023</td>\n",
       "      <td>0.0019</td>\n",
       "      <td>0.0023</td>\n",
       "      <td>968.0</td>\n",
       "      <td>1.649</td>\n",
       "    </tr>\n",
       "    <tr>\n",
       "      <th>373</th>\n",
       "      <td>1836</td>\n",
       "      <td>1</td>\n",
       "      <td>0.436</td>\n",
       "      <td>0.280</td>\n",
       "      <td>0.174</td>\n",
       "      <td>0.158</td>\n",
       "      <td>0.118</td>\n",
       "      <td>0.0032</td>\n",
       "      <td>0.0025</td>\n",
       "      <td>0.0022</td>\n",
       "      <td>0.0018</td>\n",
       "      <td>0.0022</td>\n",
       "      <td>968.0</td>\n",
       "      <td>1.594</td>\n",
       "    </tr>\n",
       "    <tr>\n",
       "      <th>374</th>\n",
       "      <td>1838</td>\n",
       "      <td>1</td>\n",
       "      <td>0.463</td>\n",
       "      <td>0.278</td>\n",
       "      <td>0.166</td>\n",
       "      <td>0.147</td>\n",
       "      <td>0.114</td>\n",
       "      <td>0.0031</td>\n",
       "      <td>0.0024</td>\n",
       "      <td>0.0021</td>\n",
       "      <td>0.0018</td>\n",
       "      <td>0.0021</td>\n",
       "      <td>968.0</td>\n",
       "      <td>1.637</td>\n",
       "    </tr>\n",
       "    <tr>\n",
       "      <th>375</th>\n",
       "      <td>1840</td>\n",
       "      <td>1</td>\n",
       "      <td>0.404</td>\n",
       "      <td>0.256</td>\n",
       "      <td>0.176</td>\n",
       "      <td>0.153</td>\n",
       "      <td>0.106</td>\n",
       "      <td>0.0030</td>\n",
       "      <td>0.0023</td>\n",
       "      <td>0.0021</td>\n",
       "      <td>0.0017</td>\n",
       "      <td>0.0020</td>\n",
       "      <td>968.0</td>\n",
       "      <td>1.615</td>\n",
       "    </tr>\n",
       "  </tbody>\n",
       "</table>\n",
       "<p>376 rows × 14 columns</p>\n",
       "</div>"
      ],
      "text/plain": [
       "     ltime  0=good  AOD416  AOD501  AOD615  AOD672  AOD862    416E    501E  \\\n",
       "0      556       1   0.383   0.300   0.208   0.172   0.113  0.0030  0.0024   \n",
       "1      558       1   0.410   0.277   0.169   0.155   0.107  0.0031  0.0025   \n",
       "2      600       1   0.350   0.284   0.183   0.155   0.109  0.0033  0.0025   \n",
       "3      602       1   0.419   0.295   0.202   0.171   0.111  0.0034  0.0026   \n",
       "..     ...     ...     ...     ...     ...     ...     ...     ...     ...   \n",
       "372   1834       1   0.441   0.249   0.165   0.141   0.102  0.0034  0.0026   \n",
       "373   1836       1   0.436   0.280   0.174   0.158   0.118  0.0032  0.0025   \n",
       "374   1838       1   0.463   0.278   0.166   0.147   0.114  0.0031  0.0024   \n",
       "375   1840       1   0.404   0.256   0.176   0.153   0.106  0.0030  0.0023   \n",
       "\n",
       "       615E    672E    862E   p_mb  Ang_exp  \n",
       "0    0.0021  0.0017  0.0020  970.1    1.792  \n",
       "1    0.0021  0.0018  0.0021  970.1    1.746  \n",
       "2    0.0022  0.0018  0.0022  970.1    1.766  \n",
       "3    0.0023  0.0019  0.0023  970.1    1.796  \n",
       "..      ...     ...     ...    ...      ...  \n",
       "372  0.0023  0.0019  0.0023  968.0    1.649  \n",
       "373  0.0022  0.0018  0.0022  968.0    1.594  \n",
       "374  0.0021  0.0018  0.0021  968.0    1.637  \n",
       "375  0.0021  0.0017  0.0020  968.0    1.615  \n",
       "\n",
       "[376 rows x 14 columns]"
      ]
     },
     "execution_count": 3,
     "metadata": {},
     "output_type": "execute_result"
    }
   ],
   "source": [
    "aod"
   ]
  },
  {
   "cell_type": "code",
   "execution_count": 4,
   "metadata": {
    "collapsed": true
   },
   "outputs": [],
   "source": [
    "def flag_check(good, aod):\n",
    "    return aod if good==0 else None"
   ]
  },
  {
   "cell_type": "code",
   "execution_count": 5,
   "metadata": {
    "collapsed": false
   },
   "outputs": [
    {
     "name": "stdout",
     "output_type": "stream",
     "text": [
      "Average AOD501 is: 0.193011730205\n"
     ]
    }
   ],
   "source": [
    "good_aod501_w_none = [flag_check(good, aod501) for good, aod501 \n",
    "                      in zip(aod['0=good'],aod['AOD501'])]\n",
    "good_aod501 = [x for x in good_aod501_w_none if x is not None]\n",
    "avg_aod501 = sum(good_aod501)/len(good_aod501)\n",
    "print \"Average AOD501 is: \" + str(avg_aod501)"
   ]
  },
  {
   "cell_type": "code",
   "execution_count": 8,
   "metadata": {
    "collapsed": false
   },
   "outputs": [
    {
     "name": "stdout",
     "output_type": "stream",
     "text": [
      "Average AOD416 is: 0.297988269795\n"
     ]
    }
   ],
   "source": [
    "good_aod416_w_none = [flag_check(good, aod416) for good, aod416 \n",
    "                      in zip(aod['0=good'],aod['AOD416'])]\n",
    "good_aod416 = [x for x in good_aod416_w_none if x is not None]\n",
    "avg_aod416 = sum(good_aod416)/len(good_aod416)\n",
    "print \"Average AOD416 is: \" + str(avg_aod416)"
   ]
  },
  {
   "cell_type": "code",
   "execution_count": 7,
   "metadata": {
    "collapsed": false
   },
   "outputs": [
    {
     "name": "stdout",
     "output_type": "stream",
     "text": [
      "Average Pressure (mb) is: 969.526979472\n"
     ]
    }
   ],
   "source": [
    "good_pressure_w_none = [flag_check(good, press) for good, press \n",
    "                        in zip(aod['0=good'],aod['p_mb'])]\n",
    "good_pressure = [x for x in good_pressure_w_none if x is not None]\n",
    "avg_pressure = sum(good_pressure)/len(good_pressure)\n",
    "print \"Average Pressure (mb) is: \" + str(avg_pressure)"
   ]
  },
  {
   "cell_type": "code",
   "execution_count": null,
   "metadata": {
    "collapsed": true
   },
   "outputs": [],
   "source": []
  }
 ],
 "metadata": {
  "kernelspec": {
   "display_name": "Python 2",
   "language": "python",
   "name": "python2"
  },
  "language_info": {
   "codemirror_mode": {
    "name": "ipython",
    "version": 2
   },
   "file_extension": ".py",
   "mimetype": "text/x-python",
   "name": "python",
   "nbconvert_exporter": "python",
   "pygments_lexer": "ipython2",
   "version": "2.7.9"
  }
 },
 "nbformat": 4,
 "nbformat_minor": 0
}
