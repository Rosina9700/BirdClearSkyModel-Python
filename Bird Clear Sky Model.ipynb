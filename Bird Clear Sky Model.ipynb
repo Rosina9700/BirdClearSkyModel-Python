{
 "cells": [
  {
   "cell_type": "code",
   "execution_count": 1,
   "metadata": {
    "collapsed": true
   },
   "outputs": [],
   "source": [
    "from math import * # enables use of pi, trig functions, and more.\n",
    "from __future__ import division # ensures no rounding errors from division involving integers\n",
    "import pandas as pd # gives us the dataframe concept\n",
    "pd.options.display.max_columns = 50\n",
    "pd.options.display.max_rows = 9"
   ]
  },
  {
   "cell_type": "markdown",
   "metadata": {},
   "source": [
    "### User Inputs"
   ]
  },
  {
   "cell_type": "code",
   "execution_count": 2,
   "metadata": {
    "collapsed": true
   },
   "outputs": [],
   "source": [
    "phi = 40.72\n",
    "longitude = -77.93\n",
    "tz = -5\n",
    "P_mb = 970\n",
    "Ozone_cm = 0.3\n",
    "H20_cm = 1.5\n",
    "AOD500nm = 0.193\n",
    "AOD380nm = 0.298\n",
    "Taua = 0.15\n",
    "Ba = 0.85\n",
    "albedo = 0.2"
   ]
  },
  {
   "cell_type": "code",
   "execution_count": 3,
   "metadata": {
    "collapsed": false
   },
   "outputs": [],
   "source": [
    "G_sc = 1367 # W/m^2\n",
    "std_mer = longitude-longitude%15+15 # This Standard Meridian calculation is only a guide!! \n",
    "                                    # Please double check this value for your location!"
   ]
  },
  {
   "cell_type": "markdown",
   "metadata": {},
   "source": [
    "### Day of the Year Column"
   ]
  },
  {
   "cell_type": "code",
   "execution_count": 4,
   "metadata": {
    "collapsed": false
   },
   "outputs": [],
   "source": [
    "n = range(1,366) # julian day of the year\n",
    "n_hrly = list(pd.Series(n).repeat(24)) # julian day numbers repeated hourly to create 8760 datapoints in dataset"
   ]
  },
  {
   "cell_type": "code",
   "execution_count": 5,
   "metadata": {
    "collapsed": false
   },
   "outputs": [],
   "source": [
    "ds = pd.DataFrame(n_hrly, columns=['DOY']) # create dataframe with julian days "
   ]
  },
  {
   "cell_type": "markdown",
   "metadata": {},
   "source": [
    "### Hr of the Day Column"
   ]
  },
  {
   "cell_type": "code",
   "execution_count": 6,
   "metadata": {
    "collapsed": false
   },
   "outputs": [],
   "source": [
    "ds['HR'] = [(hr)%24 for hr in ds.index.tolist()] # append dataframe with hr of the day for each day"
   ]
  },
  {
   "cell_type": "markdown",
   "metadata": {},
   "source": [
    "### Extraterrestrial Radiation"
   ]
  },
  {
   "cell_type": "code",
   "execution_count": 7,
   "metadata": {
    "collapsed": true
   },
   "outputs": [],
   "source": [
    "def etr(n):\n",
    "    return G_sc*(1.00011+0.034221*cos(2*pi*(n-1)/365)+0.00128*sin(2*pi*(n-1)/365)+0.000719*cos(2*(2*pi*(n-1)/365))+0.000077*sin(2*(2*pi*(n-1)/365)))"
   ]
  },
  {
   "cell_type": "code",
   "execution_count": 8,
   "metadata": {
    "collapsed": false
   },
   "outputs": [],
   "source": [
    "ds['ETR'] = [etr(n) for n in ds['DOY']] # append dataframe with etr for day"
   ]
  },
  {
   "cell_type": "markdown",
   "metadata": {},
   "source": [
    "### Intermediate Parameters"
   ]
  },
  {
   "cell_type": "code",
   "execution_count": 9,
   "metadata": {
    "collapsed": false
   },
   "outputs": [],
   "source": [
    "ds['Dangle'] = [2*pi*(n-1)/365 for n in ds['DOY']]"
   ]
  },
  {
   "cell_type": "code",
   "execution_count": 10,
   "metadata": {
    "collapsed": true
   },
   "outputs": [],
   "source": [
    "def decl(Dangle):\n",
    "    return (0.006918-0.399912*cos(Dangle)+0.070257*sin(Dangle)-0.006758*cos(2*Dangle)+0.000907*sin(2*Dangle)-0.002697*cos(3*Dangle)+0.00148*sin(3*Dangle))*(180/pi)\n",
    "ds['DEC'] = [decl(Dangle) for Dangle in ds['Dangle']]"
   ]
  },
  {
   "cell_type": "code",
   "execution_count": 11,
   "metadata": {
    "collapsed": true
   },
   "outputs": [],
   "source": [
    "def eqtime(Dangle):\n",
    "    return (0.0000075+0.001868*cos(Dangle)-0.032077*sin(Dangle)-0.014615*cos(2*Dangle)-0.040849*sin(2*Dangle))*229.18\n",
    "ds['EQT'] = [eqtime(Dangle) for Dangle in ds['Dangle']]"
   ]
  },
  {
   "cell_type": "code",
   "execution_count": 12,
   "metadata": {
    "collapsed": false
   },
   "outputs": [],
   "source": [
    "def omega(hr, eqt):\n",
    "    return 15*(hr-12.5) + longitude - tz*15 + eqt/4\n",
    "ds['Hour Angle'] = [omega(hr, eqt) for hr, eqt in zip(ds['HR'],ds['EQT'])]"
   ]
  },
  {
   "cell_type": "code",
   "execution_count": 13,
   "metadata": {
    "collapsed": true
   },
   "outputs": [],
   "source": [
    "def zen(dec, hr_ang):\n",
    "    return acos(cos(dec/(180/pi))*cos(phi/(180/pi))*cos(hr_ang/(180/pi))+sin(dec/(180/pi))*sin(phi/(180/pi)))*(180/pi)\n",
    "ds['Zenith Ang'] = [zen(dec, hr_ang) for dec, hr_ang in zip(ds['DEC'],ds['Hour Angle'])]"
   ]
  },
  {
   "cell_type": "code",
   "execution_count": 14,
   "metadata": {
    "collapsed": true
   },
   "outputs": [],
   "source": [
    "def airmass(zenang):\n",
    "    if zenang < 89:\n",
    "        return 1/(cos(zenang/(180/pi))+0.15/(93.885-zenang)**1.25)\n",
    "    else:\n",
    "        return 0\n",
    "ds['Air Mass'] = [airmass(zenang) for zenang in ds['Zenith Ang']]"
   ]
  },
  {
   "cell_type": "markdown",
   "metadata": {},
   "source": [
    "### Intermediate Results"
   ]
  },
  {
   "cell_type": "code",
   "execution_count": 15,
   "metadata": {
    "collapsed": true
   },
   "outputs": [],
   "source": [
    "def T_rayleigh(airmass):\n",
    "    if airmass > 0:\n",
    "        return exp(-0.0903*(P_mb*airmass/1013)**0.84*(1+P_mb*airmass/1013-(P_mb*airmass/1013)**1.01))\n",
    "    else:\n",
    "        return 0\n",
    "ds['T rayleigh'] = [T_rayleigh(airmass) for airmass in ds['Air Mass']]"
   ]
  },
  {
   "cell_type": "code",
   "execution_count": 16,
   "metadata": {
    "collapsed": true
   },
   "outputs": [],
   "source": [
    "def T_ozone(airmass):\n",
    "    if airmass > 0:\n",
    "        return 1-0.1611*(Ozone_cm*airmass)*(1+139.48*(Ozone_cm*airmass))**-0.3034-0.002715*(Ozone_cm*airmass)/(1+0.044*(Ozone_cm*airmass)+0.0003*(Ozone_cm*airmass)**2)\n",
    "    else:\n",
    "        return 0\n",
    "ds['T ozone'] = [T_ozone(airmass) for airmass in ds['Air Mass']]"
   ]
  },
  {
   "cell_type": "code",
   "execution_count": 17,
   "metadata": {
    "collapsed": true
   },
   "outputs": [],
   "source": [
    "def T_gasses(airmass):\n",
    "    if airmass > 0:\n",
    "        return exp(-0.0127*(airmass*P_mb/1013)**0.26)\n",
    "    else:\n",
    "        return 0\n",
    "ds['T gases'] = [T_gasses(airmass) for airmass in ds['Air Mass']]"
   ]
  },
  {
   "cell_type": "code",
   "execution_count": 18,
   "metadata": {
    "collapsed": true
   },
   "outputs": [],
   "source": [
    "def T_water(airmass):\n",
    "    if airmass > 0:\n",
    "        return 1-2.4959*airmass*H20_cm/((1+79.034*H20_cm*airmass)**0.6828+6.385*H20_cm*airmass)\n",
    "    else:\n",
    "        return 0\n",
    "ds['T water'] = [T_water(airmass) for airmass in ds['Air Mass']]"
   ]
  },
  {
   "cell_type": "code",
   "execution_count": 19,
   "metadata": {
    "collapsed": true
   },
   "outputs": [],
   "source": [
    "def T_aerosol(airmass):\n",
    "    if airmass > 0:\n",
    "        return exp(-(Taua**0.873)*(1+Taua-Taua**0.7088)*airmass**0.9108)\n",
    "    else:\n",
    "        return 0\n",
    "ds['T aerosol'] = [T_aerosol(airmass) for airmass in ds['Air Mass']]"
   ]
  },
  {
   "cell_type": "code",
   "execution_count": 20,
   "metadata": {
    "collapsed": false
   },
   "outputs": [],
   "source": [
    "def taa(airmass, taerosol):\n",
    "    if airmass > 0:\n",
    "        return 1-0.1*(1-airmass+airmass**1.06)*(1-taerosol)\n",
    "    else:\n",
    "        return 0\n",
    "ds['TAA'] = [taa(airmass, taerosol) for airmass, taerosol in zip(ds['Air Mass'],ds['T aerosol'])]"
   ]
  },
  {
   "cell_type": "code",
   "execution_count": 21,
   "metadata": {
    "collapsed": true
   },
   "outputs": [],
   "source": [
    "def rs(airmass, taerosol, taa):\n",
    "    if airmass > 0:\n",
    "        return 0.0685+(1-Ba)*(1-taerosol/taa)\n",
    "    else:\n",
    "        return 0\n",
    "ds['rs'] = [rs(airmass, taerosol, taa) for airmass, taerosol, taa in zip(ds['Air Mass'],ds['T aerosol'],ds['TAA'])]"
   ]
  },
  {
   "cell_type": "code",
   "execution_count": 22,
   "metadata": {
    "collapsed": true
   },
   "outputs": [],
   "source": [
    "def Id(airmass, etr, taerosol, twater, tgases, tozone, trayleigh):\n",
    "    if airmass > 0:\n",
    "        return 0.9662*etr*taerosol*twater*tgases*tozone*trayleigh\n",
    "    else:\n",
    "        return 0\n",
    "ds['Id'] = [Id(airmass, etr, taerosol, twater, tgases, tozone, trayleigh) for airmass, etr, taerosol, twater, tgases, tozone, trayleigh in zip(ds['Air Mass'],ds['ETR'],ds['T aerosol'],ds['T water'],ds['T gases'],ds['T ozone'],ds['T rayleigh'])]"
   ]
  },
  {
   "cell_type": "code",
   "execution_count": 23,
   "metadata": {
    "collapsed": true
   },
   "outputs": [],
   "source": [
    "def idnh(zenang, Id):\n",
    "    if zenang < 90:\n",
    "        return Id*cos(zenang/(180/pi))\n",
    "    else:\n",
    "        return 0\n",
    "ds['IdnH'] = [idnh(zenang, Id) for zenang, Id in zip(ds['Zenith Ang'],ds['Id'])]"
   ]
  },
  {
   "cell_type": "code",
   "execution_count": 24,
   "metadata": {
    "collapsed": true
   },
   "outputs": [],
   "source": [
    "def ias(airmass, etr, zenang, tozone, tgases, twater, taa, trayleigh, taerosol):\n",
    "    if airmass > 0:\n",
    "        return etr*cos(zenang/(180/pi))*0.79*tozone*tgases*twater*taa*(0.5*(1-trayleigh)+Ba*(1-(taerosol/taa)))/(1-airmass+(airmass)**1.02)\n",
    "    else:\n",
    "        return 0\n",
    "ds['Ias'] = [ias(airmass, etr, zenang, tozone, tgases, twater, taa, trayleigh, taerosol) for airmass, etr, zenang, tozone, tgases, twater, taa, trayleigh, taerosol in zip(ds['Air Mass'],ds['ETR'],ds['Zenith Ang'],ds['T ozone'],ds['T gases'],ds['T water'],ds['TAA'],ds['T rayleigh'],ds['T aerosol'])]"
   ]
  },
  {
   "cell_type": "code",
   "execution_count": 25,
   "metadata": {
    "collapsed": true
   },
   "outputs": [],
   "source": [
    "def gh(airmass, idnh, ias, rs):\n",
    "    if airmass > 0:\n",
    "        return (idnh+ias)/(1-albedo*rs)\n",
    "    else:\n",
    "        return 0\n",
    "ds['GH'] = [gh(airmass, idnh, ias, rs) for airmass, idnh, ias, rs in zip(ds['Air Mass'],ds['IdnH'],ds['Ias'],ds['rs'])]"
   ]
  },
  {
   "cell_type": "markdown",
   "metadata": {},
   "source": [
    "### Decimal Time"
   ]
  },
  {
   "cell_type": "code",
   "execution_count": 26,
   "metadata": {
    "collapsed": true
   },
   "outputs": [],
   "source": [
    "def dectime(doy, hr):\n",
    "    return doy+(hr-0.5)/24\n",
    "ds['Decimal Time'] = [dectime(doy, hr) for doy, hr in zip(ds['DOY'],ds['HR'])]"
   ]
  },
  {
   "cell_type": "markdown",
   "metadata": {},
   "source": [
    "### Model Results (W/m^2)"
   ]
  },
  {
   "cell_type": "code",
   "execution_count": 27,
   "metadata": {
    "collapsed": true
   },
   "outputs": [],
   "source": [
    "ds['Direct Beam'] = ds['Id']"
   ]
  },
  {
   "cell_type": "code",
   "execution_count": 28,
   "metadata": {
    "collapsed": true
   },
   "outputs": [],
   "source": [
    "ds['Direct Hz'] = ds['IdnH']"
   ]
  },
  {
   "cell_type": "code",
   "execution_count": 29,
   "metadata": {
    "collapsed": true
   },
   "outputs": [],
   "source": [
    "ds['Global Hz'] = ds['GH']"
   ]
  },
  {
   "cell_type": "code",
   "execution_count": 30,
   "metadata": {
    "collapsed": true
   },
   "outputs": [],
   "source": [
    "ds['Dif Hz'] = ds['Global Hz']-ds['Direct Hz']"
   ]
  },
  {
   "cell_type": "code",
   "execution_count": 31,
   "metadata": {
    "collapsed": false
   },
   "outputs": [
    {
     "data": {
      "text/html": [
       "<div style=\"max-height:1000px;max-width:1500px;overflow:auto;\">\n",
       "<table border=\"1\" class=\"dataframe\">\n",
       "  <thead>\n",
       "    <tr style=\"text-align: right;\">\n",
       "      <th></th>\n",
       "      <th>DOY</th>\n",
       "      <th>HR</th>\n",
       "      <th>ETR</th>\n",
       "      <th>Dangle</th>\n",
       "      <th>DEC</th>\n",
       "      <th>EQT</th>\n",
       "      <th>Hour Angle</th>\n",
       "      <th>Zenith Ang</th>\n",
       "      <th>Air Mass</th>\n",
       "      <th>T rayleigh</th>\n",
       "      <th>T ozone</th>\n",
       "      <th>T gases</th>\n",
       "      <th>T water</th>\n",
       "      <th>T aerosol</th>\n",
       "      <th>TAA</th>\n",
       "      <th>rs</th>\n",
       "      <th>Id</th>\n",
       "      <th>IdnH</th>\n",
       "      <th>Ias</th>\n",
       "      <th>GH</th>\n",
       "      <th>Decimal Time</th>\n",
       "      <th>Direct Beam</th>\n",
       "      <th>Direct Hz</th>\n",
       "      <th>Global Hz</th>\n",
       "      <th>Dif Hz</th>\n",
       "    </tr>\n",
       "  </thead>\n",
       "  <tbody>\n",
       "    <tr>\n",
       "      <th>0</th>\n",
       "      <td>1</td>\n",
       "      <td>0</td>\n",
       "      <td>1414.913350</td>\n",
       "      <td>0.000000</td>\n",
       "      <td>-23.058629</td>\n",
       "      <td>-2.919639</td>\n",
       "      <td>-191.159910</td>\n",
       "      <td>159.997864</td>\n",
       "      <td>0</td>\n",
       "      <td>0</td>\n",
       "      <td>0</td>\n",
       "      <td>0</td>\n",
       "      <td>0</td>\n",
       "      <td>0</td>\n",
       "      <td>0</td>\n",
       "      <td>0</td>\n",
       "      <td>0</td>\n",
       "      <td>0</td>\n",
       "      <td>0</td>\n",
       "      <td>0</td>\n",
       "      <td>0.979167</td>\n",
       "      <td>0</td>\n",
       "      <td>0</td>\n",
       "      <td>0</td>\n",
       "      <td>0</td>\n",
       "    </tr>\n",
       "    <tr>\n",
       "      <th>1</th>\n",
       "      <td>1</td>\n",
       "      <td>1</td>\n",
       "      <td>1414.913350</td>\n",
       "      <td>0.000000</td>\n",
       "      <td>-23.058629</td>\n",
       "      <td>-2.919639</td>\n",
       "      <td>-176.159910</td>\n",
       "      <td>162.045308</td>\n",
       "      <td>0</td>\n",
       "      <td>0</td>\n",
       "      <td>0</td>\n",
       "      <td>0</td>\n",
       "      <td>0</td>\n",
       "      <td>0</td>\n",
       "      <td>0</td>\n",
       "      <td>0</td>\n",
       "      <td>0</td>\n",
       "      <td>0</td>\n",
       "      <td>0</td>\n",
       "      <td>0</td>\n",
       "      <td>1.020833</td>\n",
       "      <td>0</td>\n",
       "      <td>0</td>\n",
       "      <td>0</td>\n",
       "      <td>0</td>\n",
       "    </tr>\n",
       "    <tr>\n",
       "      <th>2</th>\n",
       "      <td>1</td>\n",
       "      <td>2</td>\n",
       "      <td>1414.913350</td>\n",
       "      <td>0.000000</td>\n",
       "      <td>-23.058629</td>\n",
       "      <td>-2.919639</td>\n",
       "      <td>-161.159910</td>\n",
       "      <td>156.277477</td>\n",
       "      <td>0</td>\n",
       "      <td>0</td>\n",
       "      <td>0</td>\n",
       "      <td>0</td>\n",
       "      <td>0</td>\n",
       "      <td>0</td>\n",
       "      <td>0</td>\n",
       "      <td>0</td>\n",
       "      <td>0</td>\n",
       "      <td>0</td>\n",
       "      <td>0</td>\n",
       "      <td>0</td>\n",
       "      <td>1.062500</td>\n",
       "      <td>0</td>\n",
       "      <td>0</td>\n",
       "      <td>0</td>\n",
       "      <td>0</td>\n",
       "    </tr>\n",
       "    <tr>\n",
       "      <th>3</th>\n",
       "      <td>1</td>\n",
       "      <td>3</td>\n",
       "      <td>1414.913350</td>\n",
       "      <td>0.000000</td>\n",
       "      <td>-23.058629</td>\n",
       "      <td>-2.919639</td>\n",
       "      <td>-146.159910</td>\n",
       "      <td>146.587850</td>\n",
       "      <td>0</td>\n",
       "      <td>0</td>\n",
       "      <td>0</td>\n",
       "      <td>0</td>\n",
       "      <td>0</td>\n",
       "      <td>0</td>\n",
       "      <td>0</td>\n",
       "      <td>0</td>\n",
       "      <td>0</td>\n",
       "      <td>0</td>\n",
       "      <td>0</td>\n",
       "      <td>0</td>\n",
       "      <td>1.104167</td>\n",
       "      <td>0</td>\n",
       "      <td>0</td>\n",
       "      <td>0</td>\n",
       "      <td>0</td>\n",
       "    </tr>\n",
       "    <tr>\n",
       "      <th>...</th>\n",
       "      <td>...</td>\n",
       "      <td>...</td>\n",
       "      <td>...</td>\n",
       "      <td>...</td>\n",
       "      <td>...</td>\n",
       "      <td>...</td>\n",
       "      <td>...</td>\n",
       "      <td>...</td>\n",
       "      <td>...</td>\n",
       "      <td>...</td>\n",
       "      <td>...</td>\n",
       "      <td>...</td>\n",
       "      <td>...</td>\n",
       "      <td>...</td>\n",
       "      <td>...</td>\n",
       "      <td>...</td>\n",
       "      <td>...</td>\n",
       "      <td>...</td>\n",
       "      <td>...</td>\n",
       "      <td>...</td>\n",
       "      <td>...</td>\n",
       "      <td>...</td>\n",
       "      <td>...</td>\n",
       "      <td>...</td>\n",
       "      <td>...</td>\n",
       "    </tr>\n",
       "    <tr>\n",
       "      <th>8756</th>\n",
       "      <td>365</td>\n",
       "      <td>20</td>\n",
       "      <td>1414.872094</td>\n",
       "      <td>6.265971</td>\n",
       "      <td>-23.130256</td>\n",
       "      <td>-2.468927</td>\n",
       "      <td>108.952768</td>\n",
       "      <td>118.857625</td>\n",
       "      <td>0</td>\n",
       "      <td>0</td>\n",
       "      <td>0</td>\n",
       "      <td>0</td>\n",
       "      <td>0</td>\n",
       "      <td>0</td>\n",
       "      <td>0</td>\n",
       "      <td>0</td>\n",
       "      <td>0</td>\n",
       "      <td>0</td>\n",
       "      <td>0</td>\n",
       "      <td>0</td>\n",
       "      <td>365.812500</td>\n",
       "      <td>0</td>\n",
       "      <td>0</td>\n",
       "      <td>0</td>\n",
       "      <td>0</td>\n",
       "    </tr>\n",
       "    <tr>\n",
       "      <th>8757</th>\n",
       "      <td>365</td>\n",
       "      <td>21</td>\n",
       "      <td>1414.872094</td>\n",
       "      <td>6.265971</td>\n",
       "      <td>-23.130256</td>\n",
       "      <td>-2.468927</td>\n",
       "      <td>123.952768</td>\n",
       "      <td>130.205712</td>\n",
       "      <td>0</td>\n",
       "      <td>0</td>\n",
       "      <td>0</td>\n",
       "      <td>0</td>\n",
       "      <td>0</td>\n",
       "      <td>0</td>\n",
       "      <td>0</td>\n",
       "      <td>0</td>\n",
       "      <td>0</td>\n",
       "      <td>0</td>\n",
       "      <td>0</td>\n",
       "      <td>0</td>\n",
       "      <td>365.854167</td>\n",
       "      <td>0</td>\n",
       "      <td>0</td>\n",
       "      <td>0</td>\n",
       "      <td>0</td>\n",
       "    </tr>\n",
       "    <tr>\n",
       "      <th>8758</th>\n",
       "      <td>365</td>\n",
       "      <td>22</td>\n",
       "      <td>1414.872094</td>\n",
       "      <td>6.265971</td>\n",
       "      <td>-23.130256</td>\n",
       "      <td>-2.468927</td>\n",
       "      <td>138.952768</td>\n",
       "      <td>141.435302</td>\n",
       "      <td>0</td>\n",
       "      <td>0</td>\n",
       "      <td>0</td>\n",
       "      <td>0</td>\n",
       "      <td>0</td>\n",
       "      <td>0</td>\n",
       "      <td>0</td>\n",
       "      <td>0</td>\n",
       "      <td>0</td>\n",
       "      <td>0</td>\n",
       "      <td>0</td>\n",
       "      <td>0</td>\n",
       "      <td>365.895833</td>\n",
       "      <td>0</td>\n",
       "      <td>0</td>\n",
       "      <td>0</td>\n",
       "      <td>0</td>\n",
       "    </tr>\n",
       "    <tr>\n",
       "      <th>8759</th>\n",
       "      <td>365</td>\n",
       "      <td>23</td>\n",
       "      <td>1414.872094</td>\n",
       "      <td>6.265971</td>\n",
       "      <td>-23.130256</td>\n",
       "      <td>-2.468927</td>\n",
       "      <td>153.952768</td>\n",
       "      <td>151.939819</td>\n",
       "      <td>0</td>\n",
       "      <td>0</td>\n",
       "      <td>0</td>\n",
       "      <td>0</td>\n",
       "      <td>0</td>\n",
       "      <td>0</td>\n",
       "      <td>0</td>\n",
       "      <td>0</td>\n",
       "      <td>0</td>\n",
       "      <td>0</td>\n",
       "      <td>0</td>\n",
       "      <td>0</td>\n",
       "      <td>365.937500</td>\n",
       "      <td>0</td>\n",
       "      <td>0</td>\n",
       "      <td>0</td>\n",
       "      <td>0</td>\n",
       "    </tr>\n",
       "  </tbody>\n",
       "</table>\n",
       "<p>8760 rows × 25 columns</p>\n",
       "</div>"
      ],
      "text/plain": [
       "      DOY  HR          ETR    Dangle        DEC       EQT  Hour Angle  \\\n",
       "0       1   0  1414.913350  0.000000 -23.058629 -2.919639 -191.159910   \n",
       "1       1   1  1414.913350  0.000000 -23.058629 -2.919639 -176.159910   \n",
       "2       1   2  1414.913350  0.000000 -23.058629 -2.919639 -161.159910   \n",
       "3       1   3  1414.913350  0.000000 -23.058629 -2.919639 -146.159910   \n",
       "...   ...  ..          ...       ...        ...       ...         ...   \n",
       "8756  365  20  1414.872094  6.265971 -23.130256 -2.468927  108.952768   \n",
       "8757  365  21  1414.872094  6.265971 -23.130256 -2.468927  123.952768   \n",
       "8758  365  22  1414.872094  6.265971 -23.130256 -2.468927  138.952768   \n",
       "8759  365  23  1414.872094  6.265971 -23.130256 -2.468927  153.952768   \n",
       "\n",
       "      Zenith Ang  Air Mass  T rayleigh  T ozone  T gases  T water  T aerosol  \\\n",
       "0     159.997864         0           0        0        0        0          0   \n",
       "1     162.045308         0           0        0        0        0          0   \n",
       "2     156.277477         0           0        0        0        0          0   \n",
       "3     146.587850         0           0        0        0        0          0   \n",
       "...          ...       ...         ...      ...      ...      ...        ...   \n",
       "8756  118.857625         0           0        0        0        0          0   \n",
       "8757  130.205712         0           0        0        0        0          0   \n",
       "8758  141.435302         0           0        0        0        0          0   \n",
       "8759  151.939819         0           0        0        0        0          0   \n",
       "\n",
       "      TAA  rs  Id  IdnH  Ias  GH  Decimal Time  Direct Beam  Direct Hz  \\\n",
       "0       0   0   0     0    0   0      0.979167            0          0   \n",
       "1       0   0   0     0    0   0      1.020833            0          0   \n",
       "2       0   0   0     0    0   0      1.062500            0          0   \n",
       "3       0   0   0     0    0   0      1.104167            0          0   \n",
       "...   ...  ..  ..   ...  ...  ..           ...          ...        ...   \n",
       "8756    0   0   0     0    0   0    365.812500            0          0   \n",
       "8757    0   0   0     0    0   0    365.854167            0          0   \n",
       "8758    0   0   0     0    0   0    365.895833            0          0   \n",
       "8759    0   0   0     0    0   0    365.937500            0          0   \n",
       "\n",
       "      Global Hz  Dif Hz  \n",
       "0             0       0  \n",
       "1             0       0  \n",
       "2             0       0  \n",
       "3             0       0  \n",
       "...         ...     ...  \n",
       "8756          0       0  \n",
       "8757          0       0  \n",
       "8758          0       0  \n",
       "8759          0       0  \n",
       "\n",
       "[8760 rows x 25 columns]"
      ]
     },
     "execution_count": 31,
     "metadata": {},
     "output_type": "execute_result"
    }
   ],
   "source": [
    "ds"
   ]
  },
  {
   "cell_type": "code",
   "execution_count": 32,
   "metadata": {
    "collapsed": true
   },
   "outputs": [],
   "source": [
    "%matplotlib inline\n",
    "import matplotlib.pyplot as plt\n",
    "import matplotlib.pylab as pylab\n",
    "pylab.rcParams['figure.figsize'] = 16, 6  # this sets the default image size for this session"
   ]
  },
  {
   "cell_type": "code",
   "execution_count": 33,
   "metadata": {
    "collapsed": false
   },
   "outputs": [
    {
     "data": {
      "image/png": "[encoded data removed]",
      "text/plain": [
       "<matplotlib.figure.Figure at 0x112ad1310>"
      ]
     },
     "metadata": {},
     "output_type": "display_data"
    }
   ],
   "source": [
    "ax = ds[ds['DOY']==212].plot('HR',['Global Hz','Direct Hz','Dif Hz'],title='Bird Clear Sky Model Results')\n",
    "ax.set_xlabel(\"Hour\")\n",
    "ax.set_ylabel(\"Irradiance W/m^2\")\n",
    "majorx = ax.set_xticks(range(0,25,1))\n",
    "majory = ax.set_yticks(range(0,1001,200))"
   ]
  },
  {
   "cell_type": "markdown",
   "metadata": {
    "collapsed": true
   },
   "source": [
    "### SURFRAD Data"
   ]
  },
  {
   "cell_type": "code",
   "execution_count": 34,
   "metadata": {
    "collapsed": true
   },
   "outputs": [],
   "source": [
    "initial_cols_list = list(pd.read_table('surfrad_col_headers.txt', sep=\"\\t\", skipinitialspace=True, header=None)[0])\n",
    "qc_flag_cols = ['qc'+str(n) for n in range(1,21)]\n",
    "col_headers = initial_cols_list[:8] + [item for sublist in zip(initial_cols_list[8:],qc_flag_cols) for item in sublist]"
   ]
  },
  {
   "cell_type": "code",
   "execution_count": 35,
   "metadata": {
    "collapsed": true
   },
   "outputs": [],
   "source": [
    "surfrad = pd.read_table('psu07212.dat', skiprows=[0,1], sep=\" \", skipinitialspace=True, header=None, names=col_headers)"
   ]
  },
  {
   "cell_type": "markdown",
   "metadata": {},
   "source": [
    "### Calculate local time and add to surfrad dataframe"
   ]
  },
  {
   "cell_type": "code",
   "execution_count": 36,
   "metadata": {
    "collapsed": true
   },
   "outputs": [],
   "source": [
    "surfrad['jday_dt'] = [jday+dt/24 for jday, dt in zip(surfrad['jday'],surfrad['dt'])]"
   ]
  },
  {
   "cell_type": "code",
   "execution_count": 37,
   "metadata": {
    "collapsed": true
   },
   "outputs": [],
   "source": [
    "surfrad['Dangle'] = [2*pi*(n-1)/365 for n in surfrad['jday_dt']]"
   ]
  },
  {
   "cell_type": "code",
   "execution_count": 38,
   "metadata": {
    "collapsed": false
   },
   "outputs": [],
   "source": [
    "surfrad['DEC'] = [decl(Dangle) for Dangle in surfrad['Dangle']]"
   ]
  },
  {
   "cell_type": "code",
   "execution_count": 39,
   "metadata": {
    "collapsed": false
   },
   "outputs": [],
   "source": [
    "surfrad['EQT'] = [eqtime(Dangle) for Dangle in surfrad['Dangle']]"
   ]
  },
  {
   "cell_type": "code",
   "execution_count": 40,
   "metadata": {
    "collapsed": true
   },
   "outputs": [],
   "source": [
    "# surfrad['t_local'] = [(dt+tz)+(4*(longitude-std_mer)+eqt)/60 for dt,eqt in zip(surfrad['dt'],surfrad['EQT'])]\n",
    "surfrad['t_local'] = [(dt+tz+1)+(4*(longitude-std_mer)+eqt)/60 for dt,eqt in zip(surfrad['dt'],surfrad['EQT'])]\n",
    "# surfrad['t_local'] = [(dt+tz+1) for dt in surfrad['dt']]"
   ]
  },
  {
   "cell_type": "code",
   "execution_count": 41,
   "metadata": {
    "collapsed": false
   },
   "outputs": [
    {
     "data": {
      "text/html": [
       "<div style=\"max-height:1000px;max-width:1500px;overflow:auto;\">\n",
       "<table border=\"1\" class=\"dataframe\">\n",
       "  <thead>\n",
       "    <tr style=\"text-align: right;\">\n",
       "      <th></th>\n",
       "      <th>year</th>\n",
       "      <th>jday</th>\n",
       "      <th>month</th>\n",
       "      <th>day</th>\n",
       "      <th>hour</th>\n",
       "      <th>min</th>\n",
       "      <th>dt</th>\n",
       "      <th>zen</th>\n",
       "      <th>dw_solar</th>\n",
       "      <th>qc1</th>\n",
       "      <th>uw_solar</th>\n",
       "      <th>qc2</th>\n",
       "      <th>direct_n</th>\n",
       "      <th>qc3</th>\n",
       "      <th>diffuse</th>\n",
       "      <th>qc4</th>\n",
       "      <th>dw_ir</th>\n",
       "      <th>qc5</th>\n",
       "      <th>dw_casetemp</th>\n",
       "      <th>qc6</th>\n",
       "      <th>dw_dometemp</th>\n",
       "      <th>qc7</th>\n",
       "      <th>uw_ir</th>\n",
       "      <th>qc8</th>\n",
       "      <th>uw_casetemp</th>\n",
       "      <th>...</th>\n",
       "      <th>uvb</th>\n",
       "      <th>qc11</th>\n",
       "      <th>par</th>\n",
       "      <th>qc12</th>\n",
       "      <th>netsolar</th>\n",
       "      <th>qc13</th>\n",
       "      <th>netir</th>\n",
       "      <th>qc14</th>\n",
       "      <th>totalnet</th>\n",
       "      <th>qc15</th>\n",
       "      <th>temp</th>\n",
       "      <th>qc16</th>\n",
       "      <th>rh</th>\n",
       "      <th>qc17</th>\n",
       "      <th>windspd</th>\n",
       "      <th>qc18</th>\n",
       "      <th>winddir</th>\n",
       "      <th>qc19</th>\n",
       "      <th>pressure</th>\n",
       "      <th>qc20</th>\n",
       "      <th>jday_dt</th>\n",
       "      <th>Dangle</th>\n",
       "      <th>DEC</th>\n",
       "      <th>EQT</th>\n",
       "      <th>t_local</th>\n",
       "    </tr>\n",
       "  </thead>\n",
       "  <tbody>\n",
       "    <tr>\n",
       "      <th>0</th>\n",
       "      <td>2007</td>\n",
       "      <td>212</td>\n",
       "      <td>7</td>\n",
       "      <td>31</td>\n",
       "      <td>0</td>\n",
       "      <td>0</td>\n",
       "      <td>0.00</td>\n",
       "      <td>85.24</td>\n",
       "      <td>27.8</td>\n",
       "      <td>0</td>\n",
       "      <td>6.0</td>\n",
       "      <td>0</td>\n",
       "      <td>-2.4</td>\n",
       "      <td>0</td>\n",
       "      <td>31.9</td>\n",
       "      <td>0</td>\n",
       "      <td>385.9</td>\n",
       "      <td>0</td>\n",
       "      <td>301.0</td>\n",
       "      <td>0</td>\n",
       "      <td>300.6</td>\n",
       "      <td>0</td>\n",
       "      <td>440.6</td>\n",
       "      <td>0</td>\n",
       "      <td>299.6</td>\n",
       "      <td>...</td>\n",
       "      <td>1.5</td>\n",
       "      <td>0</td>\n",
       "      <td>13.5</td>\n",
       "      <td>0</td>\n",
       "      <td>26.0</td>\n",
       "      <td>0</td>\n",
       "      <td>-54.7</td>\n",
       "      <td>0</td>\n",
       "      <td>-28.7</td>\n",
       "      <td>0</td>\n",
       "      <td>25.6</td>\n",
       "      <td>0</td>\n",
       "      <td>70.8</td>\n",
       "      <td>0</td>\n",
       "      <td>1.2</td>\n",
       "      <td>0</td>\n",
       "      <td>18.2</td>\n",
       "      <td>0</td>\n",
       "      <td>969.7</td>\n",
       "      <td>0</td>\n",
       "      <td>212.000000</td>\n",
       "      <td>3.632198</td>\n",
       "      <td>18.469146</td>\n",
       "      <td>-6.555801</td>\n",
       "      <td>-4.304597</td>\n",
       "    </tr>\n",
       "    <tr>\n",
       "      <th>1</th>\n",
       "      <td>2007</td>\n",
       "      <td>212</td>\n",
       "      <td>7</td>\n",
       "      <td>31</td>\n",
       "      <td>0</td>\n",
       "      <td>3</td>\n",
       "      <td>0.05</td>\n",
       "      <td>85.75</td>\n",
       "      <td>21.2</td>\n",
       "      <td>0</td>\n",
       "      <td>4.3</td>\n",
       "      <td>0</td>\n",
       "      <td>-2.9</td>\n",
       "      <td>0</td>\n",
       "      <td>25.2</td>\n",
       "      <td>0</td>\n",
       "      <td>384.6</td>\n",
       "      <td>0</td>\n",
       "      <td>300.8</td>\n",
       "      <td>0</td>\n",
       "      <td>300.4</td>\n",
       "      <td>0</td>\n",
       "      <td>439.0</td>\n",
       "      <td>0</td>\n",
       "      <td>299.5</td>\n",
       "      <td>...</td>\n",
       "      <td>1.3</td>\n",
       "      <td>0</td>\n",
       "      <td>10.9</td>\n",
       "      <td>0</td>\n",
       "      <td>20.9</td>\n",
       "      <td>0</td>\n",
       "      <td>-54.4</td>\n",
       "      <td>0</td>\n",
       "      <td>-33.5</td>\n",
       "      <td>0</td>\n",
       "      <td>25.5</td>\n",
       "      <td>0</td>\n",
       "      <td>71.3</td>\n",
       "      <td>0</td>\n",
       "      <td>1.0</td>\n",
       "      <td>0</td>\n",
       "      <td>9.3</td>\n",
       "      <td>0</td>\n",
       "      <td>969.7</td>\n",
       "      <td>0</td>\n",
       "      <td>212.002083</td>\n",
       "      <td>3.632233</td>\n",
       "      <td>18.468639</td>\n",
       "      <td>-6.555735</td>\n",
       "      <td>-4.254596</td>\n",
       "    </tr>\n",
       "    <tr>\n",
       "      <th>2</th>\n",
       "      <td>2007</td>\n",
       "      <td>212</td>\n",
       "      <td>7</td>\n",
       "      <td>31</td>\n",
       "      <td>0</td>\n",
       "      <td>6</td>\n",
       "      <td>0.10</td>\n",
       "      <td>86.26</td>\n",
       "      <td>15.2</td>\n",
       "      <td>0</td>\n",
       "      <td>2.4</td>\n",
       "      <td>0</td>\n",
       "      <td>-2.6</td>\n",
       "      <td>0</td>\n",
       "      <td>18.8</td>\n",
       "      <td>0</td>\n",
       "      <td>384.8</td>\n",
       "      <td>0</td>\n",
       "      <td>300.5</td>\n",
       "      <td>0</td>\n",
       "      <td>300.2</td>\n",
       "      <td>0</td>\n",
       "      <td>437.2</td>\n",
       "      <td>0</td>\n",
       "      <td>299.4</td>\n",
       "      <td>...</td>\n",
       "      <td>1.1</td>\n",
       "      <td>0</td>\n",
       "      <td>8.5</td>\n",
       "      <td>0</td>\n",
       "      <td>16.4</td>\n",
       "      <td>0</td>\n",
       "      <td>-52.4</td>\n",
       "      <td>0</td>\n",
       "      <td>-36.0</td>\n",
       "      <td>0</td>\n",
       "      <td>25.4</td>\n",
       "      <td>0</td>\n",
       "      <td>71.7</td>\n",
       "      <td>0</td>\n",
       "      <td>0.7</td>\n",
       "      <td>0</td>\n",
       "      <td>356.8</td>\n",
       "      <td>0</td>\n",
       "      <td>969.8</td>\n",
       "      <td>0</td>\n",
       "      <td>212.004167</td>\n",
       "      <td>3.632269</td>\n",
       "      <td>18.468132</td>\n",
       "      <td>-6.555668</td>\n",
       "      <td>-4.204594</td>\n",
       "    </tr>\n",
       "    <tr>\n",
       "      <th>3</th>\n",
       "      <td>2007</td>\n",
       "      <td>212</td>\n",
       "      <td>7</td>\n",
       "      <td>31</td>\n",
       "      <td>0</td>\n",
       "      <td>9</td>\n",
       "      <td>0.15</td>\n",
       "      <td>86.77</td>\n",
       "      <td>11.6</td>\n",
       "      <td>0</td>\n",
       "      <td>1.1</td>\n",
       "      <td>0</td>\n",
       "      <td>-1.8</td>\n",
       "      <td>0</td>\n",
       "      <td>14.9</td>\n",
       "      <td>0</td>\n",
       "      <td>385.6</td>\n",
       "      <td>0</td>\n",
       "      <td>300.3</td>\n",
       "      <td>0</td>\n",
       "      <td>300.1</td>\n",
       "      <td>0</td>\n",
       "      <td>436.2</td>\n",
       "      <td>0</td>\n",
       "      <td>299.2</td>\n",
       "      <td>...</td>\n",
       "      <td>0.9</td>\n",
       "      <td>0</td>\n",
       "      <td>7.1</td>\n",
       "      <td>0</td>\n",
       "      <td>13.7</td>\n",
       "      <td>0</td>\n",
       "      <td>-50.6</td>\n",
       "      <td>0</td>\n",
       "      <td>-36.8</td>\n",
       "      <td>0</td>\n",
       "      <td>25.3</td>\n",
       "      <td>0</td>\n",
       "      <td>72.6</td>\n",
       "      <td>0</td>\n",
       "      <td>0.5</td>\n",
       "      <td>0</td>\n",
       "      <td>343.3</td>\n",
       "      <td>0</td>\n",
       "      <td>969.8</td>\n",
       "      <td>0</td>\n",
       "      <td>212.006250</td>\n",
       "      <td>3.632305</td>\n",
       "      <td>18.467625</td>\n",
       "      <td>-6.555602</td>\n",
       "      <td>-4.154593</td>\n",
       "    </tr>\n",
       "    <tr>\n",
       "      <th>...</th>\n",
       "      <td>...</td>\n",
       "      <td>...</td>\n",
       "      <td>...</td>\n",
       "      <td>...</td>\n",
       "      <td>...</td>\n",
       "      <td>...</td>\n",
       "      <td>...</td>\n",
       "      <td>...</td>\n",
       "      <td>...</td>\n",
       "      <td>...</td>\n",
       "      <td>...</td>\n",
       "      <td>...</td>\n",
       "      <td>...</td>\n",
       "      <td>...</td>\n",
       "      <td>...</td>\n",
       "      <td>...</td>\n",
       "      <td>...</td>\n",
       "      <td>...</td>\n",
       "      <td>...</td>\n",
       "      <td>...</td>\n",
       "      <td>...</td>\n",
       "      <td>...</td>\n",
       "      <td>...</td>\n",
       "      <td>...</td>\n",
       "      <td>...</td>\n",
       "      <td>...</td>\n",
       "      <td>...</td>\n",
       "      <td>...</td>\n",
       "      <td>...</td>\n",
       "      <td>...</td>\n",
       "      <td>...</td>\n",
       "      <td>...</td>\n",
       "      <td>...</td>\n",
       "      <td>...</td>\n",
       "      <td>...</td>\n",
       "      <td>...</td>\n",
       "      <td>...</td>\n",
       "      <td>...</td>\n",
       "      <td>...</td>\n",
       "      <td>...</td>\n",
       "      <td>...</td>\n",
       "      <td>...</td>\n",
       "      <td>...</td>\n",
       "      <td>...</td>\n",
       "      <td>...</td>\n",
       "      <td>...</td>\n",
       "      <td>...</td>\n",
       "      <td>...</td>\n",
       "      <td>...</td>\n",
       "      <td>...</td>\n",
       "      <td>...</td>\n",
       "    </tr>\n",
       "    <tr>\n",
       "      <th>476</th>\n",
       "      <td>2007</td>\n",
       "      <td>212</td>\n",
       "      <td>7</td>\n",
       "      <td>31</td>\n",
       "      <td>23</td>\n",
       "      <td>48</td>\n",
       "      <td>23.80</td>\n",
       "      <td>83.31</td>\n",
       "      <td>61.5</td>\n",
       "      <td>0</td>\n",
       "      <td>19.4</td>\n",
       "      <td>0</td>\n",
       "      <td>247.4</td>\n",
       "      <td>0</td>\n",
       "      <td>44.5</td>\n",
       "      <td>0</td>\n",
       "      <td>373.5</td>\n",
       "      <td>0</td>\n",
       "      <td>302.9</td>\n",
       "      <td>0</td>\n",
       "      <td>302.6</td>\n",
       "      <td>0</td>\n",
       "      <td>445.0</td>\n",
       "      <td>0</td>\n",
       "      <td>301.7</td>\n",
       "      <td>...</td>\n",
       "      <td>2.7</td>\n",
       "      <td>0</td>\n",
       "      <td>29.6</td>\n",
       "      <td>0</td>\n",
       "      <td>53.9</td>\n",
       "      <td>0</td>\n",
       "      <td>-71.5</td>\n",
       "      <td>0</td>\n",
       "      <td>-17.6</td>\n",
       "      <td>0</td>\n",
       "      <td>27.2</td>\n",
       "      <td>0</td>\n",
       "      <td>62.9</td>\n",
       "      <td>0</td>\n",
       "      <td>0.4</td>\n",
       "      <td>0</td>\n",
       "      <td>157.6</td>\n",
       "      <td>0</td>\n",
       "      <td>970.2</td>\n",
       "      <td>0</td>\n",
       "      <td>212.991667</td>\n",
       "      <td>3.649268</td>\n",
       "      <td>18.225447</td>\n",
       "      <td>-6.519153</td>\n",
       "      <td>19.496014</td>\n",
       "    </tr>\n",
       "    <tr>\n",
       "      <th>477</th>\n",
       "      <td>2007</td>\n",
       "      <td>212</td>\n",
       "      <td>7</td>\n",
       "      <td>31</td>\n",
       "      <td>23</td>\n",
       "      <td>51</td>\n",
       "      <td>23.85</td>\n",
       "      <td>83.83</td>\n",
       "      <td>50.6</td>\n",
       "      <td>0</td>\n",
       "      <td>14.3</td>\n",
       "      <td>0</td>\n",
       "      <td>179.7</td>\n",
       "      <td>0</td>\n",
       "      <td>41.7</td>\n",
       "      <td>0</td>\n",
       "      <td>372.8</td>\n",
       "      <td>0</td>\n",
       "      <td>302.7</td>\n",
       "      <td>0</td>\n",
       "      <td>302.4</td>\n",
       "      <td>0</td>\n",
       "      <td>443.0</td>\n",
       "      <td>0</td>\n",
       "      <td>301.6</td>\n",
       "      <td>...</td>\n",
       "      <td>2.4</td>\n",
       "      <td>0</td>\n",
       "      <td>25.2</td>\n",
       "      <td>0</td>\n",
       "      <td>46.7</td>\n",
       "      <td>0</td>\n",
       "      <td>-70.2</td>\n",
       "      <td>0</td>\n",
       "      <td>-23.5</td>\n",
       "      <td>0</td>\n",
       "      <td>27.2</td>\n",
       "      <td>0</td>\n",
       "      <td>64.1</td>\n",
       "      <td>0</td>\n",
       "      <td>0.2</td>\n",
       "      <td>0</td>\n",
       "      <td>159.2</td>\n",
       "      <td>0</td>\n",
       "      <td>970.2</td>\n",
       "      <td>0</td>\n",
       "      <td>212.993750</td>\n",
       "      <td>3.649304</td>\n",
       "      <td>18.224930</td>\n",
       "      <td>-6.519065</td>\n",
       "      <td>19.546016</td>\n",
       "    </tr>\n",
       "    <tr>\n",
       "      <th>478</th>\n",
       "      <td>2007</td>\n",
       "      <td>212</td>\n",
       "      <td>7</td>\n",
       "      <td>31</td>\n",
       "      <td>23</td>\n",
       "      <td>54</td>\n",
       "      <td>23.90</td>\n",
       "      <td>84.36</td>\n",
       "      <td>44.7</td>\n",
       "      <td>0</td>\n",
       "      <td>11.9</td>\n",
       "      <td>0</td>\n",
       "      <td>162.9</td>\n",
       "      <td>0</td>\n",
       "      <td>38.3</td>\n",
       "      <td>0</td>\n",
       "      <td>372.8</td>\n",
       "      <td>0</td>\n",
       "      <td>302.5</td>\n",
       "      <td>0</td>\n",
       "      <td>302.2</td>\n",
       "      <td>0</td>\n",
       "      <td>441.8</td>\n",
       "      <td>0</td>\n",
       "      <td>301.5</td>\n",
       "      <td>...</td>\n",
       "      <td>2.1</td>\n",
       "      <td>0</td>\n",
       "      <td>22.3</td>\n",
       "      <td>0</td>\n",
       "      <td>42.4</td>\n",
       "      <td>0</td>\n",
       "      <td>-69.0</td>\n",
       "      <td>0</td>\n",
       "      <td>-26.6</td>\n",
       "      <td>0</td>\n",
       "      <td>27.4</td>\n",
       "      <td>0</td>\n",
       "      <td>63.6</td>\n",
       "      <td>0</td>\n",
       "      <td>0.2</td>\n",
       "      <td>0</td>\n",
       "      <td>159.2</td>\n",
       "      <td>0</td>\n",
       "      <td>970.2</td>\n",
       "      <td>0</td>\n",
       "      <td>212.995833</td>\n",
       "      <td>3.649340</td>\n",
       "      <td>18.224413</td>\n",
       "      <td>-6.518977</td>\n",
       "      <td>19.596017</td>\n",
       "    </tr>\n",
       "    <tr>\n",
       "      <th>479</th>\n",
       "      <td>2007</td>\n",
       "      <td>212</td>\n",
       "      <td>7</td>\n",
       "      <td>31</td>\n",
       "      <td>23</td>\n",
       "      <td>57</td>\n",
       "      <td>23.95</td>\n",
       "      <td>84.88</td>\n",
       "      <td>28.4</td>\n",
       "      <td>0</td>\n",
       "      <td>2.3</td>\n",
       "      <td>0</td>\n",
       "      <td>4.1</td>\n",
       "      <td>0</td>\n",
       "      <td>33.7</td>\n",
       "      <td>0</td>\n",
       "      <td>372.6</td>\n",
       "      <td>0</td>\n",
       "      <td>302.3</td>\n",
       "      <td>0</td>\n",
       "      <td>302.0</td>\n",
       "      <td>0</td>\n",
       "      <td>439.2</td>\n",
       "      <td>0</td>\n",
       "      <td>301.4</td>\n",
       "      <td>...</td>\n",
       "      <td>1.8</td>\n",
       "      <td>0</td>\n",
       "      <td>17.7</td>\n",
       "      <td>0</td>\n",
       "      <td>31.8</td>\n",
       "      <td>0</td>\n",
       "      <td>-66.6</td>\n",
       "      <td>0</td>\n",
       "      <td>-34.8</td>\n",
       "      <td>0</td>\n",
       "      <td>27.3</td>\n",
       "      <td>0</td>\n",
       "      <td>64.3</td>\n",
       "      <td>0</td>\n",
       "      <td>0.2</td>\n",
       "      <td>0</td>\n",
       "      <td>159.2</td>\n",
       "      <td>0</td>\n",
       "      <td>970.2</td>\n",
       "      <td>0</td>\n",
       "      <td>212.997917</td>\n",
       "      <td>3.649376</td>\n",
       "      <td>18.223896</td>\n",
       "      <td>-6.518889</td>\n",
       "      <td>19.646019</td>\n",
       "    </tr>\n",
       "  </tbody>\n",
       "</table>\n",
       "<p>480 rows × 53 columns</p>\n",
       "</div>"
      ],
      "text/plain": [
       "     year  jday  month  day  hour  min     dt    zen  dw_solar  qc1  uw_solar  \\\n",
       "0    2007   212      7   31     0    0   0.00  85.24      27.8    0       6.0   \n",
       "1    2007   212      7   31     0    3   0.05  85.75      21.2    0       4.3   \n",
       "2    2007   212      7   31     0    6   0.10  86.26      15.2    0       2.4   \n",
       "3    2007   212      7   31     0    9   0.15  86.77      11.6    0       1.1   \n",
       "..    ...   ...    ...  ...   ...  ...    ...    ...       ...  ...       ...   \n",
       "476  2007   212      7   31    23   48  23.80  83.31      61.5    0      19.4   \n",
       "477  2007   212      7   31    23   51  23.85  83.83      50.6    0      14.3   \n",
       "478  2007   212      7   31    23   54  23.90  84.36      44.7    0      11.9   \n",
       "479  2007   212      7   31    23   57  23.95  84.88      28.4    0       2.3   \n",
       "\n",
       "     qc2  direct_n  qc3  diffuse  qc4  dw_ir  qc5  dw_casetemp  qc6  \\\n",
       "0      0      -2.4    0     31.9    0  385.9    0        301.0    0   \n",
       "1      0      -2.9    0     25.2    0  384.6    0        300.8    0   \n",
       "2      0      -2.6    0     18.8    0  384.8    0        300.5    0   \n",
       "3      0      -1.8    0     14.9    0  385.6    0        300.3    0   \n",
       "..   ...       ...  ...      ...  ...    ...  ...          ...  ...   \n",
       "476    0     247.4    0     44.5    0  373.5    0        302.9    0   \n",
       "477    0     179.7    0     41.7    0  372.8    0        302.7    0   \n",
       "478    0     162.9    0     38.3    0  372.8    0        302.5    0   \n",
       "479    0       4.1    0     33.7    0  372.6    0        302.3    0   \n",
       "\n",
       "     dw_dometemp  qc7  uw_ir  qc8  uw_casetemp    ...      uvb  qc11   par  \\\n",
       "0          300.6    0  440.6    0        299.6    ...      1.5     0  13.5   \n",
       "1          300.4    0  439.0    0        299.5    ...      1.3     0  10.9   \n",
       "2          300.2    0  437.2    0        299.4    ...      1.1     0   8.5   \n",
       "3          300.1    0  436.2    0        299.2    ...      0.9     0   7.1   \n",
       "..           ...  ...    ...  ...          ...    ...      ...   ...   ...   \n",
       "476        302.6    0  445.0    0        301.7    ...      2.7     0  29.6   \n",
       "477        302.4    0  443.0    0        301.6    ...      2.4     0  25.2   \n",
       "478        302.2    0  441.8    0        301.5    ...      2.1     0  22.3   \n",
       "479        302.0    0  439.2    0        301.4    ...      1.8     0  17.7   \n",
       "\n",
       "     qc12  netsolar  qc13  netir  qc14  totalnet  qc15  temp  qc16    rh  \\\n",
       "0       0      26.0     0  -54.7     0     -28.7     0  25.6     0  70.8   \n",
       "1       0      20.9     0  -54.4     0     -33.5     0  25.5     0  71.3   \n",
       "2       0      16.4     0  -52.4     0     -36.0     0  25.4     0  71.7   \n",
       "3       0      13.7     0  -50.6     0     -36.8     0  25.3     0  72.6   \n",
       "..    ...       ...   ...    ...   ...       ...   ...   ...   ...   ...   \n",
       "476     0      53.9     0  -71.5     0     -17.6     0  27.2     0  62.9   \n",
       "477     0      46.7     0  -70.2     0     -23.5     0  27.2     0  64.1   \n",
       "478     0      42.4     0  -69.0     0     -26.6     0  27.4     0  63.6   \n",
       "479     0      31.8     0  -66.6     0     -34.8     0  27.3     0  64.3   \n",
       "\n",
       "     qc17  windspd  qc18  winddir  qc19  pressure  qc20     jday_dt    Dangle  \\\n",
       "0       0      1.2     0     18.2     0     969.7     0  212.000000  3.632198   \n",
       "1       0      1.0     0      9.3     0     969.7     0  212.002083  3.632233   \n",
       "2       0      0.7     0    356.8     0     969.8     0  212.004167  3.632269   \n",
       "3       0      0.5     0    343.3     0     969.8     0  212.006250  3.632305   \n",
       "..    ...      ...   ...      ...   ...       ...   ...         ...       ...   \n",
       "476     0      0.4     0    157.6     0     970.2     0  212.991667  3.649268   \n",
       "477     0      0.2     0    159.2     0     970.2     0  212.993750  3.649304   \n",
       "478     0      0.2     0    159.2     0     970.2     0  212.995833  3.649340   \n",
       "479     0      0.2     0    159.2     0     970.2     0  212.997917  3.649376   \n",
       "\n",
       "           DEC       EQT    t_local  \n",
       "0    18.469146 -6.555801  -4.304597  \n",
       "1    18.468639 -6.555735  -4.254596  \n",
       "2    18.468132 -6.555668  -4.204594  \n",
       "3    18.467625 -6.555602  -4.154593  \n",
       "..         ...       ...        ...  \n",
       "476  18.225447 -6.519153  19.496014  \n",
       "477  18.224930 -6.519065  19.546016  \n",
       "478  18.224413 -6.518977  19.596017  \n",
       "479  18.223896 -6.518889  19.646019  \n",
       "\n",
       "[480 rows x 53 columns]"
      ]
     },
     "execution_count": 41,
     "metadata": {},
     "output_type": "execute_result"
    }
   ],
   "source": [
    "surfrad"
   ]
  },
  {
   "cell_type": "code",
   "execution_count": 42,
   "metadata": {
    "collapsed": false
   },
   "outputs": [
    {
     "data": {
      "image/png": "[encoded data removed]",
      "text/plain": [
       "<matplotlib.figure.Figure at 0x1131c0210>"
      ]
     },
     "metadata": {},
     "output_type": "display_data"
    }
   ],
   "source": [
    "ay = surfrad.plot('t_local',['dw_solar','netsolar','diffuse'],title='SURFRAD Data - Penn State')\n",
    "ay.set_xlabel(\"Hour\")\n",
    "ay.set_ylabel(\"Irradiance W/m^2\")\n",
    "majorx = ay.set_xticks(range(0,25,1))\n",
    "ay.set_xlim([0,24])\n",
    "ay.set_ylim(0)\n",
    "majory = ay.set_yticks(range(0,1001,200))"
   ]
  },
  {
   "cell_type": "markdown",
   "metadata": {},
   "source": [
    "### Combine the two plots above"
   ]
  },
  {
   "cell_type": "code",
   "execution_count": 43,
   "metadata": {
    "collapsed": false
   },
   "outputs": [
    {
     "data": {
      "image/png": "[encoded data removed]",
      "text/plain": [
       "<matplotlib.figure.Figure at 0x11325a390>"
      ]
     },
     "metadata": {},
     "output_type": "display_data"
    }
   ],
   "source": [
    "ax = ds[ds['DOY']==212].plot('HR',['Global Hz','Direct Hz','Dif Hz'],title='Bird Clear Sky Model with SURFRAD Data')\n",
    "ay = surfrad.plot('t_local',['dw_solar','netsolar','diffuse'], ax=ax)\n",
    "ay.set_xlabel(\"Hour\")\n",
    "ay.set_ylabel(\"Irradiance W/m^2\")\n",
    "majorx = ay.set_xticks(range(0,25,1))\n",
    "ay.set_xlim([0,24])\n",
    "ay.set_ylim(0)\n",
    "majory = ay.set_yticks(range(0,1001,200))"
   ]
  },
  {
   "cell_type": "code",
   "execution_count": null,
   "metadata": {
    "collapsed": true
   },
   "outputs": [],
   "source": []
  }
 ],
 "metadata": {
  "kernelspec": {
   "display_name": "Python 2",
   "language": "python",
   "name": "python2"
  },
  "language_info": {
   "codemirror_mode": {
    "name": "ipython",
    "version": 2
   },
   "file_extension": ".py",
   "mimetype": "text/x-python",
   "name": "python",
   "nbconvert_exporter": "python",
   "pygments_lexer": "ipython2",
   "version": "2.7.9"
  }
 },
 "nbformat": 4,
 "nbformat_minor": 0
}
